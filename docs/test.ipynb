{
  "cells": [
    {
      "cell_type": "code",
      "source": [
        "pip install phiflow"
      ],
      "metadata": {
        "id": "GKojNz7q0x7a"
      },
      "execution_count": null,
      "outputs": []
    },
    {
      "cell_type": "code",
      "source": [
        "from phi.flow import *\n",
        "import numpy as np\n",
        "import matplotlib.pyplot as plt\n",
        "from tqdm.notebook import trange\n",
        "domain = Box(x=10, y=10,z=10)\n",
        "inflow = Sphere(x=5, y=0.95,z=5, radius=5)\n",
        "inflow_rate = 0.2\n",
        "\n",
        "@jit_compile\n",
        "def step(v, s, p, dt):\n",
        "    s = advect.mac_cormack(s, v, dt) + inflow_rate * resample(inflow, to=s, soft=True)\n",
        "    buoyancy = resample(s * (0, 0.1, 0), to=v)\n",
        "    v = advect.semi_lagrangian(v, v, dt) + buoyancy * dt\n",
        "    v, p = fluid.make_incompressible(v, (), Solve('CG', 1e-3, x0=p))\n",
        "    return v, s, p\n",
        "\n",
        "v0 = StaggeredGrid(0, 0, domain, x=32, y=32,z=32)\n",
        "smoke0 = CenteredGrid(0, ZERO_GRADIENT, domain, x=20, y=20,z=20)\n",
        "v_trj, s_trj, p_trj = iterate(step, batch(time=20), v0, smoke0, None,range=trange, dt=.5, substeps=3)"
      ],
      "metadata": {
        "colab": {
          "base_uri": "https://localhost:8080/",
          "height": 106,
          "referenced_widgets": [
            "39c26e511db84a45a4a9d97f029f7d31",
            "00a98eab4f73478b98a808e2e2d85e11",
            "0752434ab2f243709269f75d90e095ae",
            "977783535b5b46489ed3c6d5263fd662",
            "982227eb0e5d40709b9f280191cf0027",
            "5e67dab3f8734b249621e44ec53f6163",
            "584dd78065b04877a8fa3f507e336dcd",
            "ee3c15a4281d426aaaa2f1b439ba1923",
            "731724d343474d19a08a0d98450362e5",
            "7b2c3f2d3afe4e74884421afbbb5e8b7",
            "d618433288f84a9ea268da527e0975f0"
          ]
        },
        "id": "0-v1gl0X01gE",
        "outputId": "c4515d53-501f-4696-a6a9-2a271b05d941"
      },
      "execution_count": 2,
      "outputs": [
        {
          "output_type": "display_data",
          "data": {
            "text/plain": [
              "  0%|          | 0/20 [00:00<?, ?it/s]"
            ],
            "application/vnd.jupyter.widget-view+json": {
              "version_major": 2,
              "version_minor": 0,
              "model_id": "39c26e511db84a45a4a9d97f029f7d31"
            }
          },
          "metadata": {}
        },
        {
          "output_type": "stream",
          "name": "stderr",
          "text": [
            "/usr/local/lib/python3.10/dist-packages/phiml/math/_functional.py:280: RuntimeWarning: jit_copmile() not supported by numpy. Running function 'step' as-is.\n",
            "  warnings.warn(f\"jit_copmile() not supported by {key.backend}. Running function '{f_name(self.f)}' as-is.\", RuntimeWarning)\n"
          ]
        }
      ]
    },
    {
      "cell_type": "code",
      "source": [
        "plot(v_trj.time[1],s_trj.time[1])"
      ],
      "metadata": {
        "collapsed": true,
        "id": "wlVO1mW81Vy1"
      },
      "execution_count": null,
      "outputs": []
    },
    {
      "cell_type": "code",
      "source": [
        "plot(s_trj.time[20].z[3])"
      ],
      "metadata": {
        "collapsed": true,
        "id": "RJcw33Sr68EG"
      },
      "execution_count": null,
      "outputs": []
    },
    {
      "cell_type": "code",
      "source": [
        "plot(math.vec_abs(v_trj.time[20].at_centers()).z[3])"
      ],
      "metadata": {
        "collapsed": true,
        "id": "5A0QYCIn9vg9"
      },
      "execution_count": null,
      "outputs": []
    },
    {
      "cell_type": "code",
      "source": [
        "from phi.flow import *\n",
        "dt=.5\n",
        "def combined_estimation(Φ_prev, u_prev):\n",
        "    # 第1步：预测无散度速度场\n",
        "    u_hat = Divergence_free(advect.semi_lagrangian(u_prev, u_prev, dt))\n",
        "    # 第2步：预测密度场\n",
        "    Φ_tilde = advect.mac_cormack(Φ_prev, u_hat,dt)\n",
        "    calculate_update(Φ_tilde, abseryed_image-Φ_prev)\n",
        "    return Φ_tilde\n",
        "\n",
        "def Divergence_free(u):\n",
        "    p = None  # 给 press 赋一个初值，可以是 None 或者其他合理值\n",
        "    u_div_free, p = fluid.make_incompressible(u, (), Solve('CG', 1e-3, x0=p))\n",
        "    return u_div_free  # 返回无散度的速度场\n",
        "\n",
        "s=combined_estimation(s_trj.time[1],v_trj.time[1])"
      ],
      "metadata": {
        "id": "i-Rb2j3Q-9aN"
      },
      "execution_count": 51,
      "outputs": []
    },
    {
      "cell_type": "code",
      "source": [
        "plot(s)"
      ],
      "metadata": {
        "collapsed": true,
        "id": "5yFno_NhA8rU"
      },
      "execution_count": null,
      "outputs": []
    },
    {
      "cell_type": "code",
      "source": [
        "import numpy as np\n",
        "from phi.flow import *\n",
        "from scipy.sparse.linalg import inv\n",
        "from scipy.sparse import coo_matrix\n",
        "# 正则化参数\n",
        "# 正则化参数\n",
        "sigma_phi = 10        # 密度更新的正则化参数\n",
        "sigma_u = 0.1         # 速度更新的正则化参数\n",
        "sigma_phi_2 = 0.01    # 第二步密度更新的正则化参数\n",
        "\n",
        "# 步长参数\n",
        "tau_phi = 0.01        # 密度更新的步长参数\n",
        "tau_u = 5             # 速度更新的步长参数\n",
        "tau_phi_2 = 100       # 第二步密度更新的步长参数\n",
        "\n",
        "# 动量参数\n",
        "theta_phi = 1         # 密度更新的动量参数\n",
        "theta_u = 1           # 速度更新的动量参数\n",
        "theta_phi_2 = 1       # 第二步密度更新的动量参数\n",
        "def prox_f_sigma_phi(xi):\n",
        "    \"\"\"\n",
        "    实现 prox_f_sigma，用于二维密度场和速度场的更新。\n",
        "\n",
        "    参数:\n",
        "    - xi: 输入变量列表 [xi_density, xi_velocity]。\n",
        "          xi_density: 二维密度场，形状 (H, W)。\n",
        "          xi_velocity: 二维速度场，形状 (H, W, 2)，即包含两个分量 (u_x, u_y)。\n",
        "    - sigma_phi: 密度正则化参数。\n",
        "    - sigma_u: 速度正则化参数。\n",
        "\n",
        "    返回值:\n",
        "    - 更新结果列表 [updated_density, updated_velocity]。\n",
        "    \"\"\"\n",
        "    # 分离 ξ 为密度部分和速度部分\n",
        "    xi_density = xi\n",
        "    field_numpy = xi_density.values.numpy('x,y,z')\n",
        "    # ---- 1. 计算密度梯度 ----\n",
        "    grad_density_x, grad_density_y,grad_density_z = np.gradient(field_numpy)\n",
        "    grad_density_flat = np.vstack([\n",
        "        grad_density_x.flatten(),\n",
        "        grad_density_y.flatten(),\n",
        "        grad_density_z.flatten()\n",
        "    ])\n",
        "\n",
        "    # 构造密度部分的矩阵 A_density\n",
        "    grad_T = grad_density_flat.T  # grad_T.shape = (N_density, 3)\n",
        "    N_density = xi_density.shape.volume\n",
        "    I = np.eye(N_density)  # 单位矩阵\n",
        "    upper_block = np.hstack([I, grad_T])  # 左上和右上部分\n",
        "    lower_block = np.hstack([grad_density_flat, grad_density_flat @ grad_T])  # 左下和右下部分\n",
        "    A = np.vstack([upper_block, lower_block])  # 组合为完整分块矩阵\n",
        "\n",
        "\n",
        "\n",
        "    # ---- 3. 密度部分的求解 ----\n",
        "    rhs_density = sigma_phi * xi_density.values.numpy('x,y,z').T.flatten()\n",
        "    result_density = np.linalg.solve(A, rhs_density.)\n",
        "    result_density = result_density.reshape(xi_density.shape)\n",
        "\n",
        "\n",
        "\n",
        "    # 返回更新后的密度和速度部分\n",
        "    return result_density\n",
        "#print(s_trj.time[3].shape.volume)\n",
        "prox_f_sigma_phi(s_trj.time[3])"
      ],
      "metadata": {
        "colab": {
          "base_uri": "https://localhost:8080/",
          "height": 110
        },
        "id": "mwq5kcOdBLNb",
        "outputId": "92ed7def-c7f6-4be5-a860-3ee4157ebe74"
      },
      "execution_count": 83,
      "outputs": [
        {
          "output_type": "error",
          "ename": "SyntaxError",
          "evalue": "invalid syntax (<ipython-input-83-16f118d5b43a>, line 57)",
          "traceback": [
            "\u001b[0;36m  File \u001b[0;32m\"<ipython-input-83-16f118d5b43a>\"\u001b[0;36m, line \u001b[0;32m57\u001b[0m\n\u001b[0;31m    result_density = np.linalg.solve(A, rhs_density.)\u001b[0m\n\u001b[0m                                                    ^\u001b[0m\n\u001b[0;31mSyntaxError\u001b[0m\u001b[0;31m:\u001b[0m invalid syntax\n"
          ]
        }
      ]
    }
  ],
  "metadata": {
    "colab": {
      "name": "Differentiable Fluid Simulations with Φ-Flow 2.ipynb",
      "provenance": [],
      "toc_visible": true
    },
    "kernelspec": {
      "display_name": "Python 3",
      "language": "python",
      "name": "python3"
    },
    "language_info": {
      "codemirror_mode": {
        "name": "ipython",
        "version": 3
      },
      "file_extension": ".py",
      "mimetype": "text/x-python",
      "name": "python",
      "nbconvert_exporter": "python",
      "pygments_lexer": "ipython3",
      "version": "3.8.5"
    },
    "widgets": {
      "application/vnd.jupyter.widget-state+json": {
        "39c26e511db84a45a4a9d97f029f7d31": {
          "model_module": "@jupyter-widgets/controls",
          "model_name": "HBoxModel",
          "model_module_version": "1.5.0",
          "state": {
            "_dom_classes": [],
            "_model_module": "@jupyter-widgets/controls",
            "_model_module_version": "1.5.0",
            "_model_name": "HBoxModel",
            "_view_count": null,
            "_view_module": "@jupyter-widgets/controls",
            "_view_module_version": "1.5.0",
            "_view_name": "HBoxView",
            "box_style": "",
            "children": [
              "IPY_MODEL_00a98eab4f73478b98a808e2e2d85e11",
              "IPY_MODEL_0752434ab2f243709269f75d90e095ae",
              "IPY_MODEL_977783535b5b46489ed3c6d5263fd662"
            ],
            "layout": "IPY_MODEL_982227eb0e5d40709b9f280191cf0027"
          }
        },
        "00a98eab4f73478b98a808e2e2d85e11": {
          "model_module": "@jupyter-widgets/controls",
          "model_name": "HTMLModel",
          "model_module_version": "1.5.0",
          "state": {
            "_dom_classes": [],
            "_model_module": "@jupyter-widgets/controls",
            "_model_module_version": "1.5.0",
            "_model_name": "HTMLModel",
            "_view_count": null,
            "_view_module": "@jupyter-widgets/controls",
            "_view_module_version": "1.5.0",
            "_view_name": "HTMLView",
            "description": "",
            "description_tooltip": null,
            "layout": "IPY_MODEL_5e67dab3f8734b249621e44ec53f6163",
            "placeholder": "​",
            "style": "IPY_MODEL_584dd78065b04877a8fa3f507e336dcd",
            "value": "100%"
          }
        },
        "0752434ab2f243709269f75d90e095ae": {
          "model_module": "@jupyter-widgets/controls",
          "model_name": "FloatProgressModel",
          "model_module_version": "1.5.0",
          "state": {
            "_dom_classes": [],
            "_model_module": "@jupyter-widgets/controls",
            "_model_module_version": "1.5.0",
            "_model_name": "FloatProgressModel",
            "_view_count": null,
            "_view_module": "@jupyter-widgets/controls",
            "_view_module_version": "1.5.0",
            "_view_name": "ProgressView",
            "bar_style": "success",
            "description": "",
            "description_tooltip": null,
            "layout": "IPY_MODEL_ee3c15a4281d426aaaa2f1b439ba1923",
            "max": 20,
            "min": 0,
            "orientation": "horizontal",
            "style": "IPY_MODEL_731724d343474d19a08a0d98450362e5",
            "value": 20
          }
        },
        "977783535b5b46489ed3c6d5263fd662": {
          "model_module": "@jupyter-widgets/controls",
          "model_name": "HTMLModel",
          "model_module_version": "1.5.0",
          "state": {
            "_dom_classes": [],
            "_model_module": "@jupyter-widgets/controls",
            "_model_module_version": "1.5.0",
            "_model_name": "HTMLModel",
            "_view_count": null,
            "_view_module": "@jupyter-widgets/controls",
            "_view_module_version": "1.5.0",
            "_view_name": "HTMLView",
            "description": "",
            "description_tooltip": null,
            "layout": "IPY_MODEL_7b2c3f2d3afe4e74884421afbbb5e8b7",
            "placeholder": "​",
            "style": "IPY_MODEL_d618433288f84a9ea268da527e0975f0",
            "value": " 20/20 [08:44&lt;00:00, 25.60s/it]"
          }
        },
        "982227eb0e5d40709b9f280191cf0027": {
          "model_module": "@jupyter-widgets/base",
          "model_name": "LayoutModel",
          "model_module_version": "1.2.0",
          "state": {
            "_model_module": "@jupyter-widgets/base",
            "_model_module_version": "1.2.0",
            "_model_name": "LayoutModel",
            "_view_count": null,
            "_view_module": "@jupyter-widgets/base",
            "_view_module_version": "1.2.0",
            "_view_name": "LayoutView",
            "align_content": null,
            "align_items": null,
            "align_self": null,
            "border": null,
            "bottom": null,
            "display": null,
            "flex": null,
            "flex_flow": null,
            "grid_area": null,
            "grid_auto_columns": null,
            "grid_auto_flow": null,
            "grid_auto_rows": null,
            "grid_column": null,
            "grid_gap": null,
            "grid_row": null,
            "grid_template_areas": null,
            "grid_template_columns": null,
            "grid_template_rows": null,
            "height": null,
            "justify_content": null,
            "justify_items": null,
            "left": null,
            "margin": null,
            "max_height": null,
            "max_width": null,
            "min_height": null,
            "min_width": null,
            "object_fit": null,
            "object_position": null,
            "order": null,
            "overflow": null,
            "overflow_x": null,
            "overflow_y": null,
            "padding": null,
            "right": null,
            "top": null,
            "visibility": null,
            "width": null
          }
        },
        "5e67dab3f8734b249621e44ec53f6163": {
          "model_module": "@jupyter-widgets/base",
          "model_name": "LayoutModel",
          "model_module_version": "1.2.0",
          "state": {
            "_model_module": "@jupyter-widgets/base",
            "_model_module_version": "1.2.0",
            "_model_name": "LayoutModel",
            "_view_count": null,
            "_view_module": "@jupyter-widgets/base",
            "_view_module_version": "1.2.0",
            "_view_name": "LayoutView",
            "align_content": null,
            "align_items": null,
            "align_self": null,
            "border": null,
            "bottom": null,
            "display": null,
            "flex": null,
            "flex_flow": null,
            "grid_area": null,
            "grid_auto_columns": null,
            "grid_auto_flow": null,
            "grid_auto_rows": null,
            "grid_column": null,
            "grid_gap": null,
            "grid_row": null,
            "grid_template_areas": null,
            "grid_template_columns": null,
            "grid_template_rows": null,
            "height": null,
            "justify_content": null,
            "justify_items": null,
            "left": null,
            "margin": null,
            "max_height": null,
            "max_width": null,
            "min_height": null,
            "min_width": null,
            "object_fit": null,
            "object_position": null,
            "order": null,
            "overflow": null,
            "overflow_x": null,
            "overflow_y": null,
            "padding": null,
            "right": null,
            "top": null,
            "visibility": null,
            "width": null
          }
        },
        "584dd78065b04877a8fa3f507e336dcd": {
          "model_module": "@jupyter-widgets/controls",
          "model_name": "DescriptionStyleModel",
          "model_module_version": "1.5.0",
          "state": {
            "_model_module": "@jupyter-widgets/controls",
            "_model_module_version": "1.5.0",
            "_model_name": "DescriptionStyleModel",
            "_view_count": null,
            "_view_module": "@jupyter-widgets/base",
            "_view_module_version": "1.2.0",
            "_view_name": "StyleView",
            "description_width": ""
          }
        },
        "ee3c15a4281d426aaaa2f1b439ba1923": {
          "model_module": "@jupyter-widgets/base",
          "model_name": "LayoutModel",
          "model_module_version": "1.2.0",
          "state": {
            "_model_module": "@jupyter-widgets/base",
            "_model_module_version": "1.2.0",
            "_model_name": "LayoutModel",
            "_view_count": null,
            "_view_module": "@jupyter-widgets/base",
            "_view_module_version": "1.2.0",
            "_view_name": "LayoutView",
            "align_content": null,
            "align_items": null,
            "align_self": null,
            "border": null,
            "bottom": null,
            "display": null,
            "flex": null,
            "flex_flow": null,
            "grid_area": null,
            "grid_auto_columns": null,
            "grid_auto_flow": null,
            "grid_auto_rows": null,
            "grid_column": null,
            "grid_gap": null,
            "grid_row": null,
            "grid_template_areas": null,
            "grid_template_columns": null,
            "grid_template_rows": null,
            "height": null,
            "justify_content": null,
            "justify_items": null,
            "left": null,
            "margin": null,
            "max_height": null,
            "max_width": null,
            "min_height": null,
            "min_width": null,
            "object_fit": null,
            "object_position": null,
            "order": null,
            "overflow": null,
            "overflow_x": null,
            "overflow_y": null,
            "padding": null,
            "right": null,
            "top": null,
            "visibility": null,
            "width": null
          }
        },
        "731724d343474d19a08a0d98450362e5": {
          "model_module": "@jupyter-widgets/controls",
          "model_name": "ProgressStyleModel",
          "model_module_version": "1.5.0",
          "state": {
            "_model_module": "@jupyter-widgets/controls",
            "_model_module_version": "1.5.0",
            "_model_name": "ProgressStyleModel",
            "_view_count": null,
            "_view_module": "@jupyter-widgets/base",
            "_view_module_version": "1.2.0",
            "_view_name": "StyleView",
            "bar_color": null,
            "description_width": ""
          }
        },
        "7b2c3f2d3afe4e74884421afbbb5e8b7": {
          "model_module": "@jupyter-widgets/base",
          "model_name": "LayoutModel",
          "model_module_version": "1.2.0",
          "state": {
            "_model_module": "@jupyter-widgets/base",
            "_model_module_version": "1.2.0",
            "_model_name": "LayoutModel",
            "_view_count": null,
            "_view_module": "@jupyter-widgets/base",
            "_view_module_version": "1.2.0",
            "_view_name": "LayoutView",
            "align_content": null,
            "align_items": null,
            "align_self": null,
            "border": null,
            "bottom": null,
            "display": null,
            "flex": null,
            "flex_flow": null,
            "grid_area": null,
            "grid_auto_columns": null,
            "grid_auto_flow": null,
            "grid_auto_rows": null,
            "grid_column": null,
            "grid_gap": null,
            "grid_row": null,
            "grid_template_areas": null,
            "grid_template_columns": null,
            "grid_template_rows": null,
            "height": null,
            "justify_content": null,
            "justify_items": null,
            "left": null,
            "margin": null,
            "max_height": null,
            "max_width": null,
            "min_height": null,
            "min_width": null,
            "object_fit": null,
            "object_position": null,
            "order": null,
            "overflow": null,
            "overflow_x": null,
            "overflow_y": null,
            "padding": null,
            "right": null,
            "top": null,
            "visibility": null,
            "width": null
          }
        },
        "d618433288f84a9ea268da527e0975f0": {
          "model_module": "@jupyter-widgets/controls",
          "model_name": "DescriptionStyleModel",
          "model_module_version": "1.5.0",
          "state": {
            "_model_module": "@jupyter-widgets/controls",
            "_model_module_version": "1.5.0",
            "_model_name": "DescriptionStyleModel",
            "_view_count": null,
            "_view_module": "@jupyter-widgets/base",
            "_view_module_version": "1.2.0",
            "_view_name": "StyleView",
            "description_width": ""
          }
        }
      }
    }
  },
  "nbformat": 4,
  "nbformat_minor": 0
}